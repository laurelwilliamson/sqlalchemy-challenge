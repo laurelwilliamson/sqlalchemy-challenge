{
 "cells": [
  {
   "cell_type": "code",
   "execution_count": 33,
   "metadata": {},
   "outputs": [],
   "source": [
    "%matplotlib inline\n",
    "from matplotlib import style\n",
    "style.use('fivethirtyeight')\n",
    "import matplotlib.pyplot as plt"
   ]
  },
  {
   "cell_type": "code",
   "execution_count": 34,
   "metadata": {},
   "outputs": [],
   "source": [
    "import numpy as np\n",
    "import pandas as pd\n",
    "import datetime as dt\n",
    "from scipy import stats\n",
    "from numpy import mean"
   ]
  },
  {
   "cell_type": "markdown",
   "metadata": {},
   "source": [
    "# Reflect Tables into SQLAlchemy ORM"
   ]
  },
  {
   "cell_type": "code",
   "execution_count": 46,
   "metadata": {},
   "outputs": [],
   "source": [
    "# Python SQL toolkit and Object Relational Mapper\n",
    "import sqlalchemy\n",
    "from sqlalchemy.ext.automap import automap_base\n",
    "from sqlalchemy.orm import Session\n",
    "from sqlalchemy import create_engine, func, distinct"
   ]
  },
  {
   "cell_type": "code",
   "execution_count": 36,
   "metadata": {},
   "outputs": [],
   "source": [
    "# create engine to hawaii.sqlite\n",
    "hawaii_path = \"hawaii_db\"\n",
    "engine = create_engine(\"sqlite:///hawaii1.sqlite\")\n",
    "conn = engine.connect()\n"
   ]
  },
  {
   "cell_type": "code",
   "execution_count": 37,
   "metadata": {},
   "outputs": [],
   "source": [
    "# reflect an existing database into a new model\n",
    "Base.metadata.create_all(engine)\n",
    "Base = automap_base()\n",
    "# reflect the tables\n",
    "Base.prepare(engine, reflect=True)"
   ]
  },
  {
   "cell_type": "code",
   "execution_count": 38,
   "metadata": {},
   "outputs": [
    {
     "data": {
      "text/plain": [
       "sqlalchemy.ext.automap.Base"
      ]
     },
     "execution_count": 38,
     "metadata": {},
     "output_type": "execute_result"
    }
   ],
   "source": [
    "# View all of the classes that automap found\n",
    "Base"
   ]
  },
  {
   "cell_type": "code",
   "execution_count": 39,
   "metadata": {},
   "outputs": [],
   "source": [
    "# Save references to each table\n",
    "measurement = Base.classes.measurement\n",
    "station = Base.classes.station"
   ]
  },
  {
   "cell_type": "code",
   "execution_count": 40,
   "metadata": {},
   "outputs": [],
   "source": [
    "# Create our session (link) from Python to the DB\n",
    "session = Session(bind=engine)"
   ]
  },
  {
   "cell_type": "markdown",
   "metadata": {},
   "source": [
    "# Exploratory Precipitation Analysis"
   ]
  },
  {
   "cell_type": "code",
   "execution_count": 41,
   "metadata": {},
   "outputs": [
    {
     "data": {
      "text/plain": [
       "('2017-08-23')"
      ]
     },
     "execution_count": 41,
     "metadata": {},
     "output_type": "execute_result"
    }
   ],
   "source": [
    "# Find the most recent date in the data set.\n",
    "recent = session.query(measurement.date).order_by(measurement.date.desc()).first()\n",
    "recent"
   ]
  },
  {
   "cell_type": "code",
   "execution_count": 42,
   "metadata": {},
   "outputs": [],
   "source": [
    "# Design a query to retrieve the last 12 months of precipitation data and plot the results. \n",
    "# Starting from the most recent data point in the database. \n",
    "# Calculate the date one year from the last date in data set.\n",
    "# Perform a query to retrieve the data and precipitation scores\n",
    "last12 = session.query(measurement.prcp, measurement.date).\\\n",
    "    filter(measurement.date >= '2016-08-23').\\\n",
    "    order_by(measurement.date).all()\n",
    "\n",
    "\n",
    "# Save the query results as a Pandas DataFrame and set the index to the date column\n",
    "# Sort the dataframe by date\n",
    "olddf = pd.DataFrame(last12[:], columns=['precipitation', 'date'])\n",
    "olddf.set_index('date', inplace=True, )\n",
    "newdf = olddf.dropna()\n",
    "\n",
    "\n",
    "\n",
    "\n",
    "\n",
    "\n"
   ]
  },
  {
   "cell_type": "code",
   "execution_count": 43,
   "metadata": {},
   "outputs": [
    {
     "data": {
      "image/png": "[encoded data removed]",
      "text/plain": [
       "<Figure size 432x288 with 1 Axes>"
      ]
     },
     "metadata": {},
     "output_type": "display_data"
    }
   ],
   "source": [
    "newdf.plot(rot=90)\n",
    "plt.tight_layout()\n",
    "plt.show()"
   ]
  },
  {
   "cell_type": "code",
   "execution_count": 44,
   "metadata": {},
   "outputs": [
    {
     "data": {
      "text/html": [
       "<div>\n",
       "<style scoped>\n",
       "    .dataframe tbody tr th:only-of-type {\n",
       "        vertical-align: middle;\n",
       "    }\n",
       "\n",
       "    .dataframe tbody tr th {\n",
       "        vertical-align: top;\n",
       "    }\n",
       "\n",
       "    .dataframe thead th {\n",
       "        text-align: right;\n",
       "    }\n",
       "</style>\n",
       "<table border=\"1\" class=\"dataframe\">\n",
       "  <thead>\n",
       "    <tr style=\"text-align: right;\">\n",
       "      <th></th>\n",
       "      <th>precipitation</th>\n",
       "    </tr>\n",
       "  </thead>\n",
       "  <tbody>\n",
       "    <tr>\n",
       "      <th>count</th>\n",
       "      <td>2021.000000</td>\n",
       "    </tr>\n",
       "    <tr>\n",
       "      <th>mean</th>\n",
       "      <td>0.177279</td>\n",
       "    </tr>\n",
       "    <tr>\n",
       "      <th>std</th>\n",
       "      <td>0.461190</td>\n",
       "    </tr>\n",
       "    <tr>\n",
       "      <th>min</th>\n",
       "      <td>0.000000</td>\n",
       "    </tr>\n",
       "    <tr>\n",
       "      <th>25%</th>\n",
       "      <td>0.000000</td>\n",
       "    </tr>\n",
       "    <tr>\n",
       "      <th>50%</th>\n",
       "      <td>0.020000</td>\n",
       "    </tr>\n",
       "    <tr>\n",
       "      <th>75%</th>\n",
       "      <td>0.130000</td>\n",
       "    </tr>\n",
       "    <tr>\n",
       "      <th>max</th>\n",
       "      <td>6.700000</td>\n",
       "    </tr>\n",
       "  </tbody>\n",
       "</table>\n",
       "</div>"
      ],
      "text/plain": [
       "       precipitation\n",
       "count    2021.000000\n",
       "mean        0.177279\n",
       "std         0.461190\n",
       "min         0.000000\n",
       "25%         0.000000\n",
       "50%         0.020000\n",
       "75%         0.130000\n",
       "max         6.700000"
      ]
     },
     "execution_count": 44,
     "metadata": {},
     "output_type": "execute_result"
    }
   ],
   "source": [
    "# Use Pandas to calcualte the summary statistics for the precipitation data\n",
    "summary = newdf.describe(include='all') \n",
    "summary"
   ]
  },
  {
   "cell_type": "markdown",
   "metadata": {},
   "source": [
    "# Exploratory Station Analysis"
   ]
  },
  {
   "cell_type": "code",
   "execution_count": 66,
   "metadata": {
    "scrolled": false
   },
   "outputs": [
    {
     "data": {
      "text/plain": [
       "[(9)]"
      ]
     },
     "execution_count": 66,
     "metadata": {},
     "output_type": "execute_result"
    }
   ],
   "source": [
    "# Design a query to calculate the total number stations in the dataset\n",
    "session_amount = session.query(func.count(station.station)).all()\n",
    "session_amount"
   ]
  },
  {
   "cell_type": "code",
   "execution_count": 95,
   "metadata": {},
   "outputs": [
    {
     "data": {
      "text/plain": [
       "[('USC00519281', 2772),\n",
       " ('USC00519397', 2724),\n",
       " ('USC00513117', 2709),\n",
       " ('USC00519523', 2669),\n",
       " ('USC00516128', 2612),\n",
       " ('USC00514830', 2202),\n",
       " ('USC00511918', 1979),\n",
       " ('USC00517948', 1372),\n",
       " ('USC00518838', 511)]"
      ]
     },
     "execution_count": 95,
     "metadata": {},
     "output_type": "execute_result"
    }
   ],
   "source": [
    "# Design a query to find the most active stations (i.e. what stations have the most rows?)\n",
    "# List the stations and the counts in descending order.\n",
    "#mostactive = session.query(func.count(measurement.station).order_by(station.station)).all()\n",
    "mostactive = session.query(measurement.station, func.count(measurement.station)).group_by(measurement.station).order_by(func.count(measurement.station).desc()).all()\n",
    "mostactive"
   ]
  },
  {
   "cell_type": "code",
   "execution_count": 99,
   "metadata": {},
   "outputs": [
    {
     "data": {
      "text/plain": [
       "[(54.0, 85.0, 71.66378066378067)]"
      ]
     },
     "execution_count": 99,
     "metadata": {},
     "output_type": "execute_result"
    }
   ],
   "source": [
    "# Using the most active station id from the previous query, calculate the lowest, highest, and average temperature.\n",
    "usc005 = session.query(func.min(measurement.tobs), func.max(measurement.tobs), func.avg(measurement.tobs)).\\\n",
    "    filter(measurement.station == 'USC00519281').all()\n",
    "usc005\n"
   ]
  },
  {
   "cell_type": "code",
   "execution_count": 92,
   "metadata": {},
   "outputs": [
    {
     "data": {
      "text/plain": [
       "[('2016-08-23', 81.0),\n",
       " ('2016-08-24', 79.0),\n",
       " ('2016-08-25', 80.0),\n",
       " ('2016-08-26', 79.0),\n",
       " ('2016-08-27', 77.0),\n",
       " ('2016-08-28', 78.0),\n",
       " ('2016-08-29', 78.0),\n",
       " ('2016-08-30', 79.0),\n",
       " ('2016-08-31', 80.0),\n",
       " ('2016-09-01', 81.0),\n",
       " ('2016-09-02', 80.0),\n",
       " ('2016-09-03', 79.0),\n",
       " ('2016-09-04', 75.0),\n",
       " ('2016-09-05', 79.0),\n",
       " ('2016-09-06', 76.0),\n",
       " ('2016-09-07', 76.0),\n",
       " ('2016-09-08', 80.0),\n",
       " ('2016-09-09', 79.0),\n",
       " ('2016-09-10', 78.0),\n",
       " ('2016-09-11', 76.0),\n",
       " ('2016-09-12', 78.0),\n",
       " ('2016-09-13', 78.0),\n",
       " ('2016-09-14', 75.0),\n",
       " ('2016-09-15', 79.0),\n",
       " ('2016-09-16', 80.0),\n",
       " ('2016-09-17', 79.0),\n",
       " ('2016-09-18', 81.0),\n",
       " ('2016-09-19', 77.0),\n",
       " ('2016-09-20', 77.0),\n",
       " ('2016-09-21', 78.0),\n",
       " ('2016-09-22', 76.0),\n",
       " ('2016-09-23', 82.0),\n",
       " ('2016-09-24', 81.0),\n",
       " ('2016-09-25', 78.0),\n",
       " ('2016-09-26', 80.0),\n",
       " ('2016-09-27', 80.0),\n",
       " ('2016-09-28', 79.0),\n",
       " ('2016-09-29', 80.0),\n",
       " ('2016-09-30', 80.0),\n",
       " ('2016-10-01', 80.0),\n",
       " ('2016-10-02', 79.0),\n",
       " ('2016-10-03', 79.0),\n",
       " ('2016-10-04', 79.0),\n",
       " ('2016-10-05', 80.0),\n",
       " ('2016-10-06', 80.0),\n",
       " ('2016-10-07', 79.0),\n",
       " ('2016-10-08', 78.0),\n",
       " ('2016-10-09', 76.0),\n",
       " ('2016-10-10', 75.0),\n",
       " ('2016-10-11', 80.0),\n",
       " ('2016-10-12', 80.0),\n",
       " ('2016-10-13', 79.0),\n",
       " ('2016-10-14', 80.0),\n",
       " ('2016-10-15', 79.0),\n",
       " ('2016-10-16', 78.0),\n",
       " ('2016-10-17', 78.0),\n",
       " ('2016-10-18', 80.0),\n",
       " ('2016-10-19', 81.0),\n",
       " ('2016-10-20', 79.0),\n",
       " ('2016-10-21', 77.0),\n",
       " ('2016-10-22', 79.0),\n",
       " ('2016-10-23', 78.0),\n",
       " ('2016-10-24', 77.0),\n",
       " ('2016-10-25', 77.0),\n",
       " ('2016-10-26', 78.0),\n",
       " ('2016-10-27', 77.0),\n",
       " ('2016-10-28', 78.0),\n",
       " ('2016-10-29', 77.0),\n",
       " ('2016-10-30', 76.0),\n",
       " ('2016-10-31', 77.0),\n",
       " ('2016-11-01', 77.0),\n",
       " ('2016-11-02', 77.0),\n",
       " ('2016-11-03', 77.0),\n",
       " ('2016-11-04', 77.0),\n",
       " ('2016-11-05', 76.0),\n",
       " ('2016-11-06', 75.0),\n",
       " ('2016-11-07', 71.0),\n",
       " ('2016-11-08', 71.0),\n",
       " ('2016-11-09', 71.0),\n",
       " ('2016-11-10', 71.0),\n",
       " ('2016-11-11', 72.0),\n",
       " ('2016-11-12', 71.0),\n",
       " ('2016-11-13', 72.0),\n",
       " ('2016-11-14', 77.0),\n",
       " ('2016-11-15', 77.0),\n",
       " ('2016-11-16', 77.0),\n",
       " ('2016-11-17', 77.0),\n",
       " ('2016-11-18', 77.0),\n",
       " ('2016-11-19', 75.0),\n",
       " ('2016-11-20', 76.0),\n",
       " ('2016-11-21', 76.0),\n",
       " ('2016-11-22', 75.0),\n",
       " ('2016-11-23', 72.0),\n",
       " ('2016-11-24', 74.0),\n",
       " ('2016-11-25', 75.0),\n",
       " ('2016-11-26', 73.0),\n",
       " ('2016-11-27', 76.0),\n",
       " ('2016-11-28', 75.0),\n",
       " ('2016-11-29', 68.0),\n",
       " ('2016-11-30', 75.0),\n",
       " ('2016-12-01', 75.0),\n",
       " ('2016-12-02', 72.0),\n",
       " ('2016-12-03', 69.0),\n",
       " ('2016-12-04', 71.0),\n",
       " ('2016-12-05', 68.0),\n",
       " ('2016-12-06', 67.0),\n",
       " ('2016-12-07', 69.0),\n",
       " ('2016-12-08', 73.0),\n",
       " ('2016-12-09', 70.0),\n",
       " ('2016-12-10', 70.0),\n",
       " ('2016-12-11', 70.0),\n",
       " ('2016-12-12', 66.0),\n",
       " ('2016-12-13', 67.0),\n",
       " ('2016-12-14', 70.0),\n",
       " ('2016-12-15', 66.0),\n",
       " ('2016-12-16', 62.0),\n",
       " ('2016-12-17', 71.0),\n",
       " ('2016-12-18', 73.0),\n",
       " ('2016-12-19', 69.0),\n",
       " ('2016-12-20', 77.0),\n",
       " ('2016-12-21', 74.0),\n",
       " ('2016-12-22', 71.0),\n",
       " ('2016-12-23', 72.0),\n",
       " ('2016-12-24', 74.0),\n",
       " ('2016-12-25', 74.0),\n",
       " ('2016-12-26', 74.0),\n",
       " ('2016-12-27', 74.0),\n",
       " ('2016-12-28', 71.0),\n",
       " ('2016-12-29', 73.0),\n",
       " ('2016-12-30', 69.0),\n",
       " ('2016-12-31', 66.0),\n",
       " ('2017-01-01', 62.0),\n",
       " ('2017-01-02', 66.0),\n",
       " ('2017-01-03', 63.0),\n",
       " ('2017-01-04', 62.0),\n",
       " ('2017-01-05', 63.0),\n",
       " ('2017-01-06', 64.0),\n",
       " ('2017-01-07', 66.0),\n",
       " ('2017-01-08', 60.0),\n",
       " ('2017-01-09', 64.0),\n",
       " ('2017-01-10', 63.0),\n",
       " ('2017-01-11', 78.0),\n",
       " ('2017-01-12', 67.0),\n",
       " ('2017-01-13', 67.0),\n",
       " ('2017-01-14', 65.0),\n",
       " ('2017-01-15', 66.0),\n",
       " ('2017-01-16', 67.0),\n",
       " ('2017-01-17', 66.0),\n",
       " ('2017-01-18', 72.0),\n",
       " ('2017-01-19', 73.0),\n",
       " ('2017-01-20', 71.0),\n",
       " ('2017-01-21', 72.0),\n",
       " ('2017-01-22', 72.0),\n",
       " ('2017-01-23', 72.0),\n",
       " ('2017-01-24', 69.0),\n",
       " ('2017-01-25', 72.0),\n",
       " ('2017-01-26', 71.0),\n",
       " ('2017-01-27', 65.0),\n",
       " ('2017-01-28', 64.0),\n",
       " ('2017-01-29', 67.0),\n",
       " ('2017-01-30', 67.0),\n",
       " ('2017-01-31', 68.0),\n",
       " ('2017-02-01', 70.0),\n",
       " ('2017-02-02', 61.0),\n",
       " ('2017-02-03', 65.0),\n",
       " ('2017-02-04', 72.0),\n",
       " ('2017-02-05', 73.0),\n",
       " ('2017-02-06', 76.0),\n",
       " ('2017-02-07', 64.0),\n",
       " ('2017-02-08', 62.0),\n",
       " ('2017-02-09', 61.0),\n",
       " ('2017-02-10', 71.0),\n",
       " ('2017-02-11', 69.0),\n",
       " ('2017-02-12', 68.0),\n",
       " ('2017-02-13', 74.0),\n",
       " ('2017-02-14', 75.0),\n",
       " ('2017-02-15', 75.0),\n",
       " ('2017-02-16', 71.0),\n",
       " ('2017-02-17', 71.0),\n",
       " ('2017-02-18', 68.0),\n",
       " ('2017-02-19', 69.0),\n",
       " ('2017-02-20', 71.0),\n",
       " ('2017-02-21', 70.0),\n",
       " ('2017-02-22', 72.0),\n",
       " ('2017-02-23', 74.0),\n",
       " ('2017-02-24', 70.0),\n",
       " ('2017-02-25', 64.0),\n",
       " ('2017-02-26', 65.0),\n",
       " ('2017-02-27', 72.0),\n",
       " ('2017-02-28', 74.0),\n",
       " ('2017-03-01', 66.0),\n",
       " ('2017-03-02', 73.0),\n",
       " ('2017-03-03', 69.0),\n",
       " ('2017-03-04', 74.0),\n",
       " ('2017-03-05', 71.0),\n",
       " ('2017-03-06', 69.0),\n",
       " ('2017-03-07', 68.0),\n",
       " ('2017-03-08', 71.0),\n",
       " ('2017-03-09', 72.0),\n",
       " ('2017-03-10', 68.0),\n",
       " ('2017-03-11', 71.0),\n",
       " ('2017-03-12', 74.0),\n",
       " ('2017-03-13', 71.0),\n",
       " ('2017-03-14', 71.0),\n",
       " ('2017-03-15', 71.0),\n",
       " ('2017-03-16', 70.0),\n",
       " ('2017-03-17', 72.0),\n",
       " ('2017-03-18', 69.0),\n",
       " ('2017-03-19', 73.0),\n",
       " ('2017-03-20', 75.0),\n",
       " ('2017-03-21', 75.0),\n",
       " ('2017-03-22', 74.0),\n",
       " ('2017-03-23', 70.0),\n",
       " ('2017-03-24', 73.0),\n",
       " ('2017-03-25', 76.0),\n",
       " ('2017-03-26', 76.0),\n",
       " ('2017-03-27', 75.0),\n",
       " ('2017-03-28', 77.0),\n",
       " ('2017-03-29', 76.0),\n",
       " ('2017-03-30', 77.0),\n",
       " ('2017-03-31', 76.0),\n",
       " ('2017-04-01', 76.0),\n",
       " ('2017-04-02', 76.0),\n",
       " ('2017-04-03', 77.0),\n",
       " ('2017-04-04', 76.0),\n",
       " ('2017-04-05', 78.0),\n",
       " ('2017-04-06', 77.0),\n",
       " ('2017-04-07', 77.0),\n",
       " ('2017-04-08', 77.0),\n",
       " ('2017-04-09', 72.0),\n",
       " ('2017-04-10', 75.0),\n",
       " ('2017-04-11', 79.0),\n",
       " ('2017-04-12', 78.0),\n",
       " ('2017-04-13', 77.0),\n",
       " ('2017-04-14', 75.0),\n",
       " ('2017-04-15', 73.0),\n",
       " ('2017-04-16', 74.0),\n",
       " ('2017-04-17', 74.0),\n",
       " ('2017-04-18', 75.0),\n",
       " ('2017-04-19', 74.0),\n",
       " ('2017-04-20', 78.0),\n",
       " ('2017-04-21', 73.0),\n",
       " ('2017-04-22', 76.0),\n",
       " ('2017-04-23', 77.0),\n",
       " ('2017-04-24', 77.0),\n",
       " ('2017-04-25', 77.0),\n",
       " ('2017-04-26', 77.0),\n",
       " ('2017-04-27', 78.0),\n",
       " ('2017-04-28', 76.0),\n",
       " ('2017-04-29', 72.0),\n",
       " ('2017-04-30', 63.0),\n",
       " ('2017-05-01', 75.0),\n",
       " ('2017-05-02', 78.0),\n",
       " ('2017-05-03', 78.0),\n",
       " ('2017-05-04', 78.0),\n",
       " ('2017-05-05', 79.0),\n",
       " ('2017-05-06', 79.0),\n",
       " ('2017-05-07', 79.0),\n",
       " ('2017-05-08', 77.0),\n",
       " ('2017-05-10', 78.0),\n",
       " ('2017-05-11', 78.0),\n",
       " ('2017-05-12', 79.0),\n",
       " ('2017-05-13', 79.0),\n",
       " ('2017-05-14', 77.0),\n",
       " ('2017-05-15', 78.0),\n",
       " ('2017-05-16', 78.0),\n",
       " ('2017-05-17', 78.0),\n",
       " ('2017-05-18', 73.0),\n",
       " ('2017-05-19', 76.0),\n",
       " ('2017-05-20', 78.0),\n",
       " ('2017-05-21', 76.0),\n",
       " ('2017-05-22', 77.0),\n",
       " ('2017-05-23', 87.0),\n",
       " ('2017-05-24', 77.0),\n",
       " ('2017-05-25', 77.0),\n",
       " ('2017-05-27', 74.0),\n",
       " ('2017-05-28', 76.0),\n",
       " ('2017-05-29', 75.0),\n",
       " ('2017-05-30', 76.0),\n",
       " ('2017-05-31', 79.0),\n",
       " ('2017-06-01', 79.0),\n",
       " ('2017-06-02', 79.0),\n",
       " ('2017-06-03', 79.0),\n",
       " ('2017-06-04', 79.0),\n",
       " ('2017-06-05', 80.0),\n",
       " ('2017-06-06', 79.0),\n",
       " ('2017-06-07', 79.0),\n",
       " ('2017-06-08', 80.0),\n",
       " ('2017-06-09', 80.0),\n",
       " ('2017-06-10', 77.0),\n",
       " ('2017-06-11', 79.0),\n",
       " ('2017-06-12', 83.0),\n",
       " ('2017-06-13', 80.0),\n",
       " ('2017-06-14', 80.0),\n",
       " ('2017-06-15', 78.0),\n",
       " ('2017-06-16', 79.0),\n",
       " ('2017-06-17', 80.0),\n",
       " ('2017-06-18', 77.0),\n",
       " ('2017-06-19', 80.0),\n",
       " ('2017-06-20', 78.0),\n",
       " ('2017-06-21', 79.0),\n",
       " ('2017-06-22', 80.0),\n",
       " ('2017-06-23', 78.0),\n",
       " ('2017-06-24', 80.0),\n",
       " ('2017-06-25', 80.0),\n",
       " ('2017-06-26', 81.0),\n",
       " ('2017-06-27', 80.0),\n",
       " ('2017-06-28', 79.0),\n",
       " ('2017-06-29', 79.0),\n",
       " ('2017-06-30', 75.0),\n",
       " ('2017-07-01', 80.0),\n",
       " ('2017-07-02', 80.0),\n",
       " ('2017-07-03', 78.0),\n",
       " ('2017-07-04', 80.0),\n",
       " ('2017-07-05', 80.0),\n",
       " ('2017-07-06', 81.0),\n",
       " ('2017-07-07', 79.0),\n",
       " ('2017-07-08', 80.0),\n",
       " ('2017-07-09', 80.0),\n",
       " ('2017-07-10', 80.0),\n",
       " ('2017-07-11', 78.0),\n",
       " ('2017-07-12', 81.0),\n",
       " ('2017-07-13', 79.0),\n",
       " ('2017-07-14', 81.0),\n",
       " ('2017-07-15', 80.0),\n",
       " ('2017-07-16', 78.0),\n",
       " ('2017-07-17', 80.0),\n",
       " ('2017-07-18', 80.0),\n",
       " ('2017-07-20', 80.0),\n",
       " ('2017-07-21', 80.0),\n",
       " ('2017-07-22', 81.0),\n",
       " ('2017-07-23', 81.0),\n",
       " ('2017-07-24', 78.0),\n",
       " ('2017-07-25', 80.0),\n",
       " ('2017-07-26', 82.0),\n",
       " ('2017-07-27', 79.0),\n",
       " ('2017-07-28', 81.0),\n",
       " ('2017-07-29', 81.0),\n",
       " ('2017-07-30', 81.0),\n",
       " ('2017-07-31', 80.0),\n",
       " ('2017-08-01', 77.0),\n",
       " ('2017-08-02', 73.0),\n",
       " ('2017-08-03', 79.0),\n",
       " ('2017-08-04', 80.0),\n",
       " ('2017-08-05', 81.0),\n",
       " ('2017-08-06', 80.0),\n",
       " ('2017-08-07', 80.0),\n",
       " ('2017-08-08', 80.0),\n",
       " ('2017-08-09', 80.0),\n",
       " ('2017-08-10', 81.0),\n",
       " ('2017-08-11', 78.0),\n",
       " ('2017-08-12', 80.0),\n",
       " ('2017-08-13', 81.0),\n",
       " ('2017-08-14', 79.0),\n",
       " ('2017-08-15', 78.0),\n",
       " ('2017-08-18', 80.0),\n",
       " ('2017-08-19', 79.0),\n",
       " ('2017-08-20', 81.0),\n",
       " ('2017-08-21', 81.0),\n",
       " ('2017-08-22', 82.0),\n",
       " ('2017-08-23', 81.0)]"
      ]
     },
     "execution_count": 92,
     "metadata": {},
     "output_type": "execute_result"
    }
   ],
   "source": [
    "# Using the most active station id\n",
    "# Query the last 12 months of temperature observation data for this station and plot the results as a histogram\n",
    "mostrecent = session.query(measurement.date).\\\n",
    "    filter(measurement.station == 'USC00519397').\\\n",
    "    order_by(measurement.date.desc()).first()\n",
    "\n",
    "last12s = session.query(measurement.date, measurement.tobs).\\\n",
    "    filter(measurement.date >= '2016-08-23').\\\n",
    "    filter(measurement.station == 'USC00519397').all()\n",
    "last12s\n"
   ]
  },
  {
   "cell_type": "code",
   "execution_count": 98,
   "metadata": {},
   "outputs": [
    {
     "data": {
      "text/plain": [
       "<matplotlib.axes._subplots.AxesSubplot at 0x7f920bd71940>"
      ]
     },
     "execution_count": 98,
     "metadata": {},
     "output_type": "execute_result"
    },
    {
     "data": {
      "image/png": "[encoded data removed]",
      "text/plain": [
       "<Figure size 432x288 with 1 Axes>"
      ]
     },
     "metadata": {},
     "output_type": "display_data"
    }
   ],
   "source": [
    "#histogram\n",
    "oldf = pd.DataFrame(last12s[:], columns=['date', 'tobs'])\n",
    "oldf.set_index('date', inplace=True, )\n",
    "newwwdf = oldf.dropna()\n",
    "hist = newwwdf.plot.hist(bins=12, alpha=0.5)\n",
    "hist"
   ]
  },
  {
   "cell_type": "markdown",
   "metadata": {},
   "source": [
    "# Close session"
   ]
  },
  {
   "cell_type": "code",
   "execution_count": 99,
   "metadata": {},
   "outputs": [],
   "source": [
    "# Close Session\n",
    "session.close()"
   ]
  },
  {
   "cell_type": "code",
   "execution_count": null,
   "metadata": {},
   "outputs": [],
   "source": []
  }
 ],
 "metadata": {
  "anaconda-cloud": {},
  "kernel_info": {
   "name": "python3"
  },
  "kernelspec": {
   "display_name": "Python 3",
   "language": "python",
   "name": "python3"
  },
  "language_info": {
   "codemirror_mode": {
    "name": "ipython",
    "version": 3
   },
   "file_extension": ".py",
   "mimetype": "text/x-python",
   "name": "python",
   "nbconvert_exporter": "python",
   "pygments_lexer": "ipython3",
   "version": "3.8.3"
  },
  "nteract": {
   "version": "0.12.3"
  },
  "varInspector": {
   "cols": {
    "lenName": 16,
    "lenType": 16,
    "lenVar": 40
   },
   "kernels_config": {
    "python": {
     "delete_cmd_postfix": "",
     "delete_cmd_prefix": "del ",
     "library": "var_list.py",
     "varRefreshCmd": "print(var_dic_list())"
    },
    "r": {
     "delete_cmd_postfix": ") ",
     "delete_cmd_prefix": "rm(",
     "library": "var_list.r",
     "varRefreshCmd": "cat(var_dic_list()) "
    }
   },
   "types_to_exclude": [
    "module",
    "function",
    "builtin_function_or_method",
    "instance",
    "_Feature"
   ],
   "window_display": false
  }
 },
 "nbformat": 4,
 "nbformat_minor": 2
}
